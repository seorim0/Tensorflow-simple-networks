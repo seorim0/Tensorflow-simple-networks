{
  "nbformat": 4,
  "nbformat_minor": 0,
  "metadata": {
    "colab": {
      "name": "tensorflow_ed.ipynb",
      "provenance": []
    },
    "kernelspec": {
      "name": "python3",
      "display_name": "Python 3"
    },
    "language_info": {
      "name": "python"
    },
    "accelerator": "GPU"
  },
  "cells": [
    {
      "cell_type": "markdown",
      "source": [
        "#간단한 Convolutional Encoder-Decoder 네트워크"
      ],
      "metadata": {
        "id": "JyTklV1m9AEU"
      }
    },
    {
      "cell_type": "code",
      "execution_count": 1,
      "metadata": {
        "id": "TFIE50NHvoKW"
      },
      "outputs": [],
      "source": [
        "import tensorflow as tf\n",
        "from tensorflow import keras\n",
        "from tensorflow.keras import layers\n",
        "from datetime import datetime\n"
      ]
    },
    {
      "cell_type": "code",
      "source": [
        "class SequentialModule(tf.Module):\n",
        "  def __init__(self, name=None):\n",
        "    super().__init__(name=name)\n",
        "\n",
        "    self.encoder = keras.Sequential(\n",
        "        [\n",
        "         layers.Conv2D(16, kernel_size=(5, 2), strides=(2, 1), padding='same', activation=\"relu\", data_format='channels_first', name='en1'),\n",
        "         layers.Conv2D(32, kernel_size=(5, 2), strides=(2, 1), padding='same', activation=\"relu\", data_format='channels_first',  name='en2'),\n",
        "         layers.Conv2D(64, kernel_size=(5, 2), strides=(2, 1), padding='same', activation=\"relu\", data_format='channels_first',  name='en3'),\n",
        "         layers.Conv2D(128, kernel_size=(5, 2), strides=(2, 1), padding='same', activation=\"relu\", data_format='channels_first',  name='en4'),\n",
        "         layers.Conv2D(128, kernel_size=(5, 2), strides=(2, 1), padding='same', activation=\"relu\", data_format='channels_first',  name='en5'),\n",
        "         layers.Conv2D(128, kernel_size=(5, 2), strides=(2, 1), padding='same', activation=\"relu\", data_format='channels_first',  name='en6')\n",
        "        ])\n",
        "\n",
        "    self.decoder = keras.Sequential(\n",
        "        [\n",
        "         layers.Conv2DTranspose(128, kernel_size=(5, 2), strides=(2, 1), padding='same', activation=\"relu\", data_format='channels_first', name='de1'),\n",
        "         layers.Conv2DTranspose(128, kernel_size=(5, 2), strides=(2, 1), padding='same', activation=\"relu\", data_format='channels_first', name='de2'),\n",
        "         layers.Conv2DTranspose(64, kernel_size=(5, 2), strides=(2, 1), padding='same', activation=\"relu\", data_format='channels_first', name='de3'),\n",
        "         layers.Conv2DTranspose(32, kernel_size=(5, 2), strides=(2, 1), padding='same', activation=\"relu\", data_format='channels_first', name='de4'),\n",
        "         layers.Conv2DTranspose(16, kernel_size=(5, 2), strides=(2, 1), padding='same', activation=\"relu\", data_format='channels_first', name='de5'),\n",
        "         layers.Conv2DTranspose(1, kernel_size=(5, 2), strides=(2, 1), padding='same', activation=\"relu\", data_format='channels_first', name='de6')\n",
        "        ])\n",
        "    \n",
        "\n",
        "  def __call__(self, x):\n",
        "    x = self.encoder(x)\n",
        "    x = self.decoder(x)\n",
        "    return x\n"
      ],
      "metadata": {
        "id": "Vj98FHFbvqGl"
      },
      "execution_count": 15,
      "outputs": []
    },
    {
      "cell_type": "code",
      "source": [
        "# You have made a model!\n",
        "my_model = SequentialModule(name=\"the_model\")\n",
        "\n",
        "# random input\n",
        "input_shape = (1, 1, 256, 483)\n",
        "input = tf.random.normal(input_shape)\n",
        "\n",
        "# model output                    \n",
        "output = my_model(input)\n",
        "\n",
        "# summary\n",
        "my_model.encoder.summary()\n",
        "my_model.decoder.summary()"
      ],
      "metadata": {
        "colab": {
          "base_uri": "https://localhost:8080/"
        },
        "id": "MWG-9cWav1wI",
        "outputId": "8a0dd2a8-1e29-4c0c-f4b2-6c43c143b5ce"
      },
      "execution_count": 17,
      "outputs": [
        {
          "output_type": "stream",
          "name": "stdout",
          "text": [
            "Model: \"sequential_18\"\n",
            "_________________________________________________________________\n",
            " Layer (type)                Output Shape              Param #   \n",
            "=================================================================\n",
            " en1 (Conv2D)                (1, 16, 128, 483)         176       \n",
            "                                                                 \n",
            " en2 (Conv2D)                (1, 32, 64, 483)          5152      \n",
            "                                                                 \n",
            " en3 (Conv2D)                (1, 64, 32, 483)          20544     \n",
            "                                                                 \n",
            " en4 (Conv2D)                (1, 128, 16, 483)         82048     \n",
            "                                                                 \n",
            " en5 (Conv2D)                (1, 128, 8, 483)          163968    \n",
            "                                                                 \n",
            " en6 (Conv2D)                (1, 128, 4, 483)          163968    \n",
            "                                                                 \n",
            "=================================================================\n",
            "Total params: 435,856\n",
            "Trainable params: 435,856\n",
            "Non-trainable params: 0\n",
            "_________________________________________________________________\n",
            "Model: \"sequential_19\"\n",
            "_________________________________________________________________\n",
            " Layer (type)                Output Shape              Param #   \n",
            "=================================================================\n",
            " de1 (Conv2DTranspose)       (1, 128, 8, 483)          163968    \n",
            "                                                                 \n",
            " de2 (Conv2DTranspose)       (1, 128, 16, 483)         163968    \n",
            "                                                                 \n",
            " de3 (Conv2DTranspose)       (1, 64, 32, 483)          81984     \n",
            "                                                                 \n",
            " de4 (Conv2DTranspose)       (1, 32, 64, 483)          20512     \n",
            "                                                                 \n",
            " de5 (Conv2DTranspose)       (1, 16, 128, 483)         5136      \n",
            "                                                                 \n",
            " de6 (Conv2DTranspose)       (1, 1, 256, 483)          161       \n",
            "                                                                 \n",
            "=================================================================\n",
            "Total params: 435,729\n",
            "Trainable params: 435,729\n",
            "Non-trainable params: 0\n",
            "_________________________________________________________________\n"
          ]
        }
      ]
    },
    {
      "cell_type": "markdown",
      "source": [
        "# 간단한 Convolutional Encoder-Decoder 네트워크 2"
      ],
      "metadata": {
        "id": "uLBWIVVL9G7j"
      }
    },
    {
      "cell_type": "code",
      "source": [
        "from tensorflow import keras\n",
        "from tensorflow.keras import layers"
      ],
      "metadata": {
        "id": "t1W0HKjc9P4R"
      },
      "execution_count": 18,
      "outputs": []
    },
    {
      "cell_type": "code",
      "source": [
        "def encoder(x):\n",
        "    x = layers.Conv2D(16, kernel_size=(5, 2), strides=(2, 1), padding='same', activation=\"relu\", data_format='channels_first', name='en1')(x)\n",
        "    x = layers.Conv2D(32, kernel_size=(5, 2), strides=(2, 1), padding='same', activation=\"relu\", data_format='channels_first',  name='en2')(x)\n",
        "    x =  layers.Conv2D(64, kernel_size=(5, 2), strides=(2, 1), padding='same', activation=\"relu\", data_format='channels_first',  name='en3')(x)\n",
        "    x = layers.Conv2D(128, kernel_size=(5, 2), strides=(2, 1), padding='same', activation=\"relu\", data_format='channels_first',  name='en4')(x)\n",
        "    x = layers.Conv2D(128, kernel_size=(5, 2), strides=(2, 1), padding='same', activation=\"relu\", data_format='channels_first',  name='en5')(x)\n",
        "    x = layers.Conv2D(128, kernel_size=(5, 2), strides=(2, 1), padding='same', activation=\"relu\", data_format='channels_first',  name='en6')(x)\n",
        "    \n",
        "    return x"
      ],
      "metadata": {
        "id": "WmhLExVx9MTs"
      },
      "execution_count": 56,
      "outputs": []
    },
    {
      "cell_type": "code",
      "source": [
        "def decoder(x):\n",
        "    x = layers.Conv2DTranspose(128, kernel_size=(5, 2), strides=(2, 1), padding='same', activation=\"relu\", data_format='channels_first', name='de1')(x)\n",
        "    x = layers.Conv2DTranspose(128, kernel_size=(5, 2), strides=(2, 1), padding='same', activation=\"relu\", data_format='channels_first', name='de2')(x)\n",
        "    x = layers.Conv2DTranspose(64, kernel_size=(5, 2), strides=(2, 1), padding='same', activation=\"relu\", data_format='channels_first', name='de3')(x)\n",
        "    x = layers.Conv2DTranspose(32, kernel_size=(5, 2), strides=(2, 1), padding='same', activation=\"relu\", data_format='channels_first', name='de4')(x)\n",
        "    x = layers.Conv2DTranspose(16, kernel_size=(5, 2), strides=(2, 1), padding='same', activation=\"relu\", data_format='channels_first', name='de5')(x)\n",
        "    x = layers.Conv2DTranspose(1, kernel_size=(5, 2), strides=(2, 1), padding='same', activation=\"relu\", data_format='channels_first', name='de6')(x)\n",
        "    return x\n"
      ],
      "metadata": {
        "id": "YgrRXOcJFAsp"
      },
      "execution_count": 57,
      "outputs": []
    },
    {
      "cell_type": "code",
      "source": [
        "def build_model(weight=None,\n",
        "                input_shape=(1, 256, 483),\n",
        "                model_name='encoder-decoder'):\n",
        "  \n",
        "    x = random_input = keras.Input(shape=input_shape)\n",
        "    \n",
        "    x = encoder(x)\n",
        "    x = decoder(x)\n",
        "\n",
        "    model = keras.Model(inputs=random_input, outputs=x, name=model_name)\n",
        "    if weight is not None:\n",
        "        model.load_weights(weight, by_name=True, skip_mismatch=True)\n",
        "    return model"
      ],
      "metadata": {
        "id": "KC8bkrrQ9Tu5"
      },
      "execution_count": 64,
      "outputs": []
    },
    {
      "cell_type": "code",
      "source": [
        "strategy = tf.distribute.MirroredStrategy()\n",
        "\n",
        "with strategy.scope():\n",
        "    lr_schedule = keras.optimizers.schedules.CosineDecay(0.001, 0.9)\n",
        "    model = build_model()\n",
        "    model.compile(optimizer=keras.optimizers.Adam(lr_schedule),\n",
        "                  loss=tf.keras.losses.MeanSquaredError())\n",
        "\n",
        "model.summary()"
      ],
      "metadata": {
        "id": "eL-dMi9F9uyI",
        "outputId": "ea095fde-2c07-490f-a641-a619d81156b8",
        "colab": {
          "base_uri": "https://localhost:8080/"
        }
      },
      "execution_count": 65,
      "outputs": [
        {
          "output_type": "stream",
          "name": "stdout",
          "text": [
            "INFO:tensorflow:Using MirroredStrategy with devices ('/job:localhost/replica:0/task:0/device:GPU:0',)\n",
            "INFO:tensorflow:Reduce to /job:localhost/replica:0/task:0/device:CPU:0 then broadcast to ('/job:localhost/replica:0/task:0/device:CPU:0',).\n",
            "INFO:tensorflow:Reduce to /job:localhost/replica:0/task:0/device:CPU:0 then broadcast to ('/job:localhost/replica:0/task:0/device:CPU:0',).\n",
            "INFO:tensorflow:Reduce to /job:localhost/replica:0/task:0/device:CPU:0 then broadcast to ('/job:localhost/replica:0/task:0/device:CPU:0',).\n",
            "INFO:tensorflow:Reduce to /job:localhost/replica:0/task:0/device:CPU:0 then broadcast to ('/job:localhost/replica:0/task:0/device:CPU:0',).\n",
            "Model: \"encoder-decoder\"\n",
            "_________________________________________________________________\n",
            " Layer (type)                Output Shape              Param #   \n",
            "=================================================================\n",
            " input_17 (InputLayer)       [(None, 1, 256, 483)]     0         \n",
            "                                                                 \n",
            " en1 (Conv2D)                (None, 16, 128, 483)      176       \n",
            "                                                                 \n",
            " en2 (Conv2D)                (None, 32, 64, 483)       5152      \n",
            "                                                                 \n",
            " en3 (Conv2D)                (None, 64, 32, 483)       20544     \n",
            "                                                                 \n",
            " en4 (Conv2D)                (None, 128, 16, 483)      82048     \n",
            "                                                                 \n",
            " en5 (Conv2D)                (None, 128, 8, 483)       163968    \n",
            "                                                                 \n",
            " en6 (Conv2D)                (None, 128, 4, 483)       163968    \n",
            "                                                                 \n",
            " de1 (Conv2DTranspose)       (None, 128, 8, 483)       163968    \n",
            "                                                                 \n",
            " de2 (Conv2DTranspose)       (None, 128, 16, 483)      163968    \n",
            "                                                                 \n",
            " de3 (Conv2DTranspose)       (None, 64, 32, 483)       81984     \n",
            "                                                                 \n",
            " de4 (Conv2DTranspose)       (None, 32, 64, 483)       20512     \n",
            "                                                                 \n",
            " de5 (Conv2DTranspose)       (None, 16, 128, 483)      5136      \n",
            "                                                                 \n",
            " de6 (Conv2DTranspose)       (None, 1, 256, 483)       161       \n",
            "                                                                 \n",
            "=================================================================\n",
            "Total params: 871,585\n",
            "Trainable params: 871,585\n",
            "Non-trainable params: 0\n",
            "_________________________________________________________________\n"
          ]
        }
      ]
    },
    {
      "cell_type": "markdown",
      "source": [
        "# 간단한 Convolutional Recurrent 네트워크\n"
      ],
      "metadata": {
        "id": "jJzhT5nxIhME"
      }
    },
    {
      "cell_type": "code",
      "source": [
        "from tensorflow import keras\n",
        "from tensorflow.keras import layers"
      ],
      "metadata": {
        "id": "UnLPg19kIlLH"
      },
      "execution_count": null,
      "outputs": []
    },
    {
      "cell_type": "code",
      "source": [
        "def encoder(x):\n",
        "    x = layers.Conv2D(16, kernel_size=(5, 2), strides=(2, 1), padding='same', activation=\"relu\", data_format='channels_first', name='en1')(x)\n",
        "    x = layers.Conv2D(32, kernel_size=(5, 2), strides=(2, 1), padding='same', activation=\"relu\", data_format='channels_first',  name='en2')(x)\n",
        "    x =  layers.Conv2D(64, kernel_size=(5, 2), strides=(2, 1), padding='same', activation=\"relu\", data_format='channels_first',  name='en3')(x)\n",
        "    x = layers.Conv2D(128, kernel_size=(5, 2), strides=(2, 1), padding='same', activation=\"relu\", data_format='channels_first',  name='en4')(x)\n",
        "    x = layers.Conv2D(128, kernel_size=(5, 2), strides=(2, 1), padding='same', activation=\"relu\", data_format='channels_first',  name='en5')(x)\n",
        "    x = layers.Conv2D(128, kernel_size=(5, 2), strides=(2, 1), padding='same', activation=\"relu\", data_format='channels_first',  name='en6')(x)\n",
        "    \n",
        "    return x"
      ],
      "metadata": {
        "id": "wtoAUA2GIpr9"
      },
      "execution_count": null,
      "outputs": []
    },
    {
      "cell_type": "code",
      "source": [
        "def decoder(x):\n",
        "    x = layers.Conv2DTranspose(128, kernel_size=(5, 2), strides=(2, 1), padding='same', activation=\"relu\", data_format='channels_first', name='de1')(x)\n",
        "    x = layers.Conv2DTranspose(128, kernel_size=(5, 2), strides=(2, 1), padding='same', activation=\"relu\", data_format='channels_first', name='de2')(x)\n",
        "    x = layers.Conv2DTranspose(64, kernel_size=(5, 2), strides=(2, 1), padding='same', activation=\"relu\", data_format='channels_first', name='de3')(x)\n",
        "    x = layers.Conv2DTranspose(32, kernel_size=(5, 2), strides=(2, 1), padding='same', activation=\"relu\", data_format='channels_first', name='de4')(x)\n",
        "    x = layers.Conv2DTranspose(16, kernel_size=(5, 2), strides=(2, 1), padding='same', activation=\"relu\", data_format='channels_first', name='de5')(x)\n",
        "    x = layers.Conv2DTranspose(1, kernel_size=(5, 2), strides=(2, 1), padding='same', activation=\"relu\", data_format='channels_first', name='de6')(x)\n",
        "    return x\n"
      ],
      "metadata": {
        "id": "6de-sGxYIq8G"
      },
      "execution_count": null,
      "outputs": []
    },
    {
      "cell_type": "code",
      "source": [
        "def lstm(x):\n",
        "  x = layers.Reshape((483, -1))(x)\n",
        "  x = layers.LSTM(256, activation='relu', return_sequences=True,)(x)\n",
        "  x = layers.Dense(512)(x)\n",
        "  x = layers.Reshape((128, 483, 4))(x)\n",
        "  return x"
      ],
      "metadata": {
        "id": "VAqaHOMeIxrH"
      },
      "execution_count": 102,
      "outputs": []
    },
    {
      "cell_type": "code",
      "source": [
        "def build_model(weight=None,\n",
        "                input_shape=(1, 256, 483),\n",
        "                model_name='encoder-decoder'):\n",
        "  \n",
        "    x = random_input = keras.Input(shape=input_shape)\n",
        "    \n",
        "    x = encoder(x)\n",
        "    x = lstm(x)\n",
        "    x = decoder(x)\n",
        "\n",
        "    model = keras.Model(inputs=random_input, outputs=x, name=model_name)\n",
        "    if weight is not None:\n",
        "        model.load_weights(weight, by_name=True, skip_mismatch=True)\n",
        "    return model"
      ],
      "metadata": {
        "id": "epoAZHl1ItGg"
      },
      "execution_count": 68,
      "outputs": []
    },
    {
      "cell_type": "code",
      "source": [
        "strategy = tf.distribute.MirroredStrategy()\n",
        "\n",
        "with strategy.scope():\n",
        "    lr_schedule = keras.optimizers.schedules.CosineDecay(0.001, 0.9)\n",
        "    model = build_model()\n",
        "    model.compile(optimizer=keras.optimizers.Adam(lr_schedule),\n",
        "                  loss=tf.keras.losses.MeanSquaredError())\n",
        "\n",
        "model.summary()"
      ],
      "metadata": {
        "id": "lGoGG56FIvXs",
        "outputId": "8cc4b326-c3c5-4e1a-8fdd-c39ba6a871ff",
        "colab": {
          "base_uri": "https://localhost:8080/"
        }
      },
      "execution_count": 103,
      "outputs": [
        {
          "output_type": "stream",
          "name": "stdout",
          "text": [
            "INFO:tensorflow:Using MirroredStrategy with devices ('/job:localhost/replica:0/task:0/device:GPU:0',)\n",
            "WARNING:tensorflow:Layer lstm_14 will not use cuDNN kernels since it doesn't meet the criteria. It will use a generic GPU kernel as fallback when running on GPU.\n",
            "INFO:tensorflow:Reduce to /job:localhost/replica:0/task:0/device:CPU:0 then broadcast to ('/job:localhost/replica:0/task:0/device:CPU:0',).\n",
            "INFO:tensorflow:Reduce to /job:localhost/replica:0/task:0/device:CPU:0 then broadcast to ('/job:localhost/replica:0/task:0/device:CPU:0',).\n",
            "Model: \"encoder-decoder\"\n",
            "_________________________________________________________________\n",
            " Layer (type)                Output Shape              Param #   \n",
            "=================================================================\n",
            " input_34 (InputLayer)       [(None, 1, 256, 483)]     0         \n",
            "                                                                 \n",
            " en1 (Conv2D)                (None, 16, 128, 483)      176       \n",
            "                                                                 \n",
            " en2 (Conv2D)                (None, 32, 64, 483)       5152      \n",
            "                                                                 \n",
            " en3 (Conv2D)                (None, 64, 32, 483)       20544     \n",
            "                                                                 \n",
            " en4 (Conv2D)                (None, 128, 16, 483)      82048     \n",
            "                                                                 \n",
            " en5 (Conv2D)                (None, 128, 8, 483)       163968    \n",
            "                                                                 \n",
            " en6 (Conv2D)                (None, 128, 4, 483)       163968    \n",
            "                                                                 \n",
            " reshape_24 (Reshape)        (None, 483, 512)          0         \n",
            "                                                                 \n",
            " lstm_14 (LSTM)              (None, 483, 256)          787456    \n",
            "                                                                 \n",
            " dense_1 (Dense)             (None, 483, 512)          131584    \n",
            "                                                                 \n",
            " reshape_25 (Reshape)        (None, 128, 483, 4)       0         \n",
            "                                                                 \n",
            " de1 (Conv2DTranspose)       (None, 128, 966, 4)       163968    \n",
            "                                                                 \n",
            " de2 (Conv2DTranspose)       (None, 128, 1932, 4)      163968    \n",
            "                                                                 \n",
            " de3 (Conv2DTranspose)       (None, 64, 3864, 4)       81984     \n",
            "                                                                 \n",
            " de4 (Conv2DTranspose)       (None, 32, 7728, 4)       20512     \n",
            "                                                                 \n",
            " de5 (Conv2DTranspose)       (None, 16, 15456, 4)      5136      \n",
            "                                                                 \n",
            " de6 (Conv2DTranspose)       (None, 1, 30912, 4)       161       \n",
            "                                                                 \n",
            "=================================================================\n",
            "Total params: 1,790,625\n",
            "Trainable params: 1,790,625\n",
            "Non-trainable params: 0\n",
            "_________________________________________________________________\n"
          ]
        }
      ]
    }
  ]
}